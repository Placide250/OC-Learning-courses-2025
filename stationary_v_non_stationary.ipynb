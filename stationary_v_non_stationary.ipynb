{
  "nbformat": 4,
  "nbformat_minor": 0,
  "metadata": {
    "colab": {
      "provenance": [],
      "authorship_tag": "ABX9TyPepQoLXgwLkvf8KXeKEMej",
      "include_colab_link": true
    },
    "kernelspec": {
      "name": "python3",
      "display_name": "Python 3"
    },
    "language_info": {
      "name": "python"
    }
  },
  "cells": [
    {
      "cell_type": "markdown",
      "metadata": {
        "id": "view-in-github",
        "colab_type": "text"
      },
      "source": [
        "<a href=\"https://colab.research.google.com/github/Placide250/OC-leveling-Learning-courses-2025-/blob/main/stationary_v_non_stationary.ipynb\" target=\"_parent\"><img src=\"https://colab.research.google.com/assets/colab-badge.svg\" alt=\"Open In Colab\"/></a>"
      ]
    },
    {
      "cell_type": "code",
      "execution_count": 2,
      "metadata": {
        "colab": {
          "base_uri": "https://localhost:8080/",
          "height": 216
        },
        "id": "QobHZL3fXWTB",
        "outputId": "0c06749e-eca5-4583-f873-cc63706c2567"
      },
      "outputs": [
        {
          "output_type": "error",
          "ename": "NameError",
          "evalue": "name 'transitions_stationary' is not defined",
          "traceback": [
            "\u001b[0;31m---------------------------------------------------------------------------\u001b[0m",
            "\u001b[0;31mNameError\u001b[0m                                 Traceback (most recent call last)",
            "\u001b[0;32m/tmp/ipython-input-2-3310892094.py\u001b[0m in \u001b[0;36m<cell line: 0>\u001b[0;34m()\u001b[0m\n\u001b[1;32m     25\u001b[0m \u001b[0;34m\u001b[0m\u001b[0m\n\u001b[1;32m     26\u001b[0m \u001b[0;31m# Simulate\u001b[0m\u001b[0;34m\u001b[0m\u001b[0;34m\u001b[0m\u001b[0m\n\u001b[0;32m---> 27\u001b[0;31m \u001b[0mstationary_weather\u001b[0m \u001b[0;34m=\u001b[0m \u001b[0msimulate_weather\u001b[0m\u001b[0;34m(\u001b[0m\u001b[0;34m\"Sunny\"\u001b[0m\u001b[0;34m,\u001b[0m \u001b[0mtransitions_stationary\u001b[0m\u001b[0;34m,\u001b[0m \u001b[0;36m30\u001b[0m\u001b[0;34m)\u001b[0m\u001b[0;34m\u001b[0m\u001b[0;34m\u001b[0m\u001b[0m\n\u001b[0m\u001b[1;32m     28\u001b[0m \u001b[0mnonstationary_weather\u001b[0m \u001b[0;34m=\u001b[0m \u001b[0msimulate_weather\u001b[0m\u001b[0;34m(\u001b[0m\u001b[0;34m\"Sunny\"\u001b[0m\u001b[0;34m,\u001b[0m \u001b[0mtransitions_nonstationary\u001b[0m\u001b[0;34m,\u001b[0m \u001b[0;36m30\u001b[0m\u001b[0;34m,\u001b[0m \u001b[0mnon_stationary\u001b[0m\u001b[0;34m=\u001b[0m\u001b[0;32mTrue\u001b[0m\u001b[0;34m)\u001b[0m\u001b[0;34m\u001b[0m\u001b[0;34m\u001b[0m\u001b[0m\n\u001b[1;32m     29\u001b[0m \u001b[0;34m\u001b[0m\u001b[0m\n",
            "\u001b[0;31mNameError\u001b[0m: name 'transitions_stationary' is not defined"
          ]
        }
      ],
      "source": [
        "import random\n",
        "import matplotlib.pyplot as plt\n",
        "\n",
        "def simulate_weather(start_state, transitions, days, non_stationary=False):\n",
        "    state = start_state\n",
        "    history = [state]\n",
        "\n",
        "\n",
        "    for day in range(1, days):\n",
        "        if non_stationary:\n",
        "            if day < 10:\n",
        "                probs = transitions[0][state]\n",
        "            elif day < 20:\n",
        "                probs = transitions[1][state]\n",
        "            else:\n",
        "                probs = transitions[2][state]\n",
        "        else:\n",
        "            probs = transitions[state]\n",
        "\n",
        "        next_state = random.choices(list(probs.keys()), weights=list(probs.values()))[0]\n",
        "        history.append(next_state)\n",
        "        state = next_state\n",
        "\n",
        "    return history\n",
        "\n",
        "# Simulate\n",
        "stationary_weather = simulate_weather(\"Sunny\", transitions_stationary, 30)\n",
        "nonstationary_weather = simulate_weather(\"Sunny\", transitions_nonstationary, 30, non_stationary=True)\n",
        "\n",
        "# Plotting\n",
        "plt.figure(figsize=(12, 3))\n",
        "plt.plot(stationary_weather, label=\"Stationary\", marker=\"o\")\n",
        "plt.plot(nonstationary_weather, label=\"Non-Stationary\", marker=\"x\")\n",
        "plt.xticks(range(30))\n",
        "plt.xlabel(\"Day\")\n",
        "plt.ylabel(\"Weather State\")\n",
        "plt.title(\"Stationary vs Non-Stationary Weather\")\n",
        "plt.legend()\n",
        "plt.grid(True)\n",
        "plt.show()\n"
      ]
    },
    {
      "cell_type": "code",
      "metadata": {
        "id": "e7ef4858"
      },
      "source": [
        "# Define transition probabilities for stationary weather\n",
        "transitions_stationary = {\n",
        "    \"Sunny\": {\"Sunny\": 0.8, \"Rainy\": 0.2},\n",
        "    \"Rainy\": {\"Sunny\": 0.3, \"Rainy\": 0.7}\n",
        "}\n",
        "\n",
        "# Define transition probabilities for non-stationary weather (changing over time)\n",
        "transitions_nonstationary = [\n",
        "    { # First 10 days\n",
        "        \"Sunny\": {\"Sunny\": 0.9, \"Rainy\": 0.1},\n",
        "        \"Rainy\": {\"Sunny\": 0.4, \"Rainy\": 0.6}\n",
        "    },\n",
        "    { # Days 10-20\n",
        "        \"Sunny\": {\"Sunny\": 0.7, \"Rainy\": 0.3},\n",
        "        \"Rainy\": {\"Sunny\": 0.2, \"Rainy\": 0.8}\n",
        "    },\n",
        "    { # Days 20-30\n",
        "        \"Sunny\": {\"Sunny\": 0.5, \"Rainy\": 0.5},\n",
        "        \"Rainy\": {\"Sunny\": 0.1, \"Rainy\": 0.9}\n",
        "    }\n",
        "]"
      ],
      "execution_count": 4,
      "outputs": []
    }
  ]
}